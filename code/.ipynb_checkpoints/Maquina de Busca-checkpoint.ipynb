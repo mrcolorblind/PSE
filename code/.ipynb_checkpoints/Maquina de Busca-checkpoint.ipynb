{
 "cells": [
  {
   "cell_type": "code",
   "execution_count": 1,
   "metadata": {},
   "outputs": [],
   "source": [
    "import re\n",
    "import argparse\n",
    "import os\n",
    "import glob\n",
    "from pathlib import Path\n",
    "import time\n",
    "from Indice_Invertido import Indice_Invertido\n",
    "from Consulta import Consulta\n",
    "import numpy as np"
   ]
  },
  {
   "cell_type": "code",
   "execution_count": 2,
   "metadata": {},
   "outputs": [],
   "source": [
    "#Recebendo e atribuindo os argumentos\n",
    "\n",
    "#Argumentos funcionam apenas em executáveis .py, portanto o código deve ser descomentado quando o código for exportado.\n",
    "\n",
    "# parser = argparse.ArgumentParser()\n",
    "# parser.add_argument(\"dataset\", help=\"O banco de dados no qual será realizada a pesquisa. Deve ser uma pasta.\")\n",
    "# args   = parser.parse_args()\n"
   ]
  },
  {
   "cell_type": "code",
   "execution_count": 44,
   "metadata": {},
   "outputs": [],
   "source": [
    "def consultar():\n",
    "    queryOriginal = input(\"Digite o que deseja buscar: \\n\")\n",
    "    numeroPesquisa = int(input(\"Digite quantos resultados você deseja\"))\n",
    "\n",
    "    start_time = time.time()\n",
    "\n",
    "    consulta  = Consulta(queryOriginal, indInv)\n",
    "    resultado = consulta.documentos\n",
    "    resultado = sorted(resultado, key=lambda x: x[1], reverse = True)\n",
    "    resultado = resultado[:numeroPesquisa]\n",
    "\n",
    "    end_time = time.time()\n",
    "\n",
    "    #Demonstração dos resultados e interação com o usuário\n",
    "    print(\"\\nBusca realizada em \", indInv.numDocs,\" documentos em \", start_time - end_time,\" segundos!\")\n",
    "    print(\"\\nResultados: \\n\")\n",
    "    for i in range(len(resultado)):\n",
    "        nomeArquivo = resultado[i][0].split(\"/\")[-1]\n",
    "        print(i+1,\" - \", nomeArquivo)\n",
    "    print(\"\\n\")\n",
    "    opcao = input(\"Deseja abrir um dos arquivos?(s/n)\")\n",
    "    if (opcao == \"s\" or opcao == \"S\"):\n",
    "        while(opcao == \"s\" or opcao == \"S\"):\n",
    "            numArquivo = int(input(\"Digite o numero do arquivo que você deseja abrir:\")) - 1\n",
    "            if (numArquivo >= len(resultado) or numArquivo < 0):\n",
    "                print(\"Esse arquivo não foi listado!\")\n",
    "            else:\n",
    "                arquivo = open(resultado[numArquivo][0], encoding=\"latin-1\").read()\n",
    "                print(\"\\n\\n\", arquivo, \"\\n\\n\")\n",
    "                opcao = input(\"Deseja abrir outro arquivo?(s/n)\")\n",
    "    opcao = input(\"Deseja fazer outra busca?(s/n)\")\n",
    "    if (opcao == \"s\" or opcao == \"S\"):\n",
    "        consultar()"
   ]
  },
  {
   "cell_type": "code",
   "execution_count": 45,
   "metadata": {},
   "outputs": [
    {
     "name": "stdout",
     "output_type": "stream",
     "text": [
      "Tratando arquivos...\n",
      "1/2\n",
      "2/2\n",
      "Arquivos tratados!\n",
      "\n",
      "\n",
      "\n"
     ]
    }
   ],
   "source": [
    "path = \"../data\"\n",
    "# path = args.dataset\n",
    "# Uma linha para o executável, a outra para o ipynb\n",
    "\n",
    "print(\"Tratando arquivos...\")\n",
    "indInv = Indice_Invertido(path)\n",
    "print(\"Arquivos tratados!\")\n",
    "print(\"\\n\\n\")"
   ]
  },
  {
   "cell_type": "code",
   "execution_count": 46,
   "metadata": {},
   "outputs": [
    {
     "name": "stdin",
     "output_type": "stream",
     "text": [
      "Digite o que deseja buscar: \n",
      " vhs tapes\n",
      "Digite quantos resultados você deseja 5\n"
     ]
    },
    {
     "name": "stdout",
     "output_type": "stream",
     "text": [
      "\n",
      "Busca realizada em  6872  documentos em  -23.271397590637207  segundos!\n",
      "\n",
      "Resultados: \n",
      "\n",
      "1  -  76816\n",
      "2  -  54119\n",
      "3  -  76126\n",
      "4  -  76272\n",
      "5  -  54167\n",
      "\n",
      "\n"
     ]
    },
    {
     "name": "stdin",
     "output_type": "stream",
     "text": [
      "Deseja abrir um dos arquivos?(s/n) s\n",
      "Digite o numero do arquivo que você deseja abrir: 2\n"
     ]
    },
    {
     "name": "stdout",
     "output_type": "stream",
     "text": [
      "\n",
      "\n",
      " From: klp@doe.carleton.ca (Ka Lun Pang)\n",
      "Subject: Self-destructing copy protection on VHS tape?\n",
      "Organization: Dept. of Electronics, Carleton University\n",
      "Lines: 19\n",
      "\n",
      "\n",
      "Hi folks,\n",
      "\n",
      "I borrowed a VHS tape from a friend and it has a warning in the begining saying\n",
      "that attempts to copy the tape will result in destroying the copy and the\n",
      "original. I found this unbelievable as playing and recording are two different\n",
      "processes. However, I've never seen this tape being sold anywhere so I don't \n",
      "want to take the chance even it's small.\n",
      "\n",
      "Anyone has experience in this kind of self-destructing video tapes?\n",
      "\n",
      "Thanks in advance.\n",
      "\n",
      "--\n",
      "Ka Lun  Pang (a.k.a. Andy) - Lost between frequency and time on the unit circle\n",
      "                      email: klp@doe.carleton.ca \n",
      "                               DoD# 0687\n",
      " \n",
      "\n",
      "\n"
     ]
    },
    {
     "name": "stdin",
     "output_type": "stream",
     "text": [
      "Deseja abrir outro arquivo?(s/n) s\n",
      "Digite o numero do arquivo que você deseja abrir: 3\n"
     ]
    },
    {
     "name": "stdout",
     "output_type": "stream",
     "text": [
      "\n",
      "\n",
      " From: Feng.Qian@launchpad.unc.edu (Feng Qian)\n",
      "Subject: IRWIN tapes (DC2120s) for sale \n",
      "Nntp-Posting-Host: lambada.oit.unc.edu\n",
      "Organization: University of North Carolina Extended Bulletin Board Service\n",
      "Lines: 13\n",
      "\n",
      "Well, if you have an IRWIN 250 MB, here is a great deal for you:\n",
      "Genuine IRWIN accuTRAK 120-250 tapes, $16/ea\n",
      "3M DC2120 tapes. $16/ea\n",
      "\n",
      "All the avove tapes are new, never used, and factory preformatted.\n",
      "Email if interested.\n",
      "\n",
      "Feng\n",
      "--\n",
      "   The opinions expressed are not necessarily those of the University of\n",
      "     North Carolina at Chapel Hill, the Campus Office for Information\n",
      "        Technology, or the Experimental Bulletin Board Service.\n",
      "           internet:  laUNChpad.unc.edu or 152.2.22.80\n",
      " \n",
      "\n",
      "\n"
     ]
    },
    {
     "name": "stdin",
     "output_type": "stream",
     "text": [
      "Deseja abrir outro arquivo?(s/n) n\n",
      "Deseja fazer outra busca?(s/n) n\n"
     ]
    }
   ],
   "source": [
    "consultar()"
   ]
  }
 ],
 "metadata": {
  "kernelspec": {
   "display_name": "Python 3",
   "language": "python",
   "name": "python3"
  },
  "language_info": {
   "codemirror_mode": {
    "name": "ipython",
    "version": 3
   },
   "file_extension": ".py",
   "mimetype": "text/x-python",
   "name": "python",
   "nbconvert_exporter": "python",
   "pygments_lexer": "ipython3",
   "version": "3.7.3"
  }
 },
 "nbformat": 4,
 "nbformat_minor": 2
}
