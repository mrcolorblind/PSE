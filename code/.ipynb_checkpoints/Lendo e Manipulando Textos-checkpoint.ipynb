{
 "cells": [
  {
   "cell_type": "code",
   "execution_count": 2,
   "metadata": {},
   "outputs": [
    {
     "name": "stdout",
     "output_type": "stream",
     "text": [
      "asd dsa 23122 ASFSDA\n"
     ]
    }
   ],
   "source": [
    "arquivo = open(\"teste.txt\")\n",
    "txt = arquivo.read()\n",
    "print(txt)\n",
    "arquivo.close()"
   ]
  },
  {
   "cell_type": "code",
   "execution_count": 6,
   "metadata": {},
   "outputs": [
    {
     "name": "stdout",
     "output_type": "stream",
     "text": [
      "a\n",
      "s\n",
      "d\n",
      " \n",
      "d\n",
      "s\n",
      "a\n",
      " \n",
      "2\n",
      "3\n",
      "1\n",
      "2\n",
      "2\n",
      " \n",
      "A\n",
      "S\n",
      "F\n",
      "S\n",
      "D\n",
      "A\n"
     ]
    }
   ],
   "source": [
    "len(txt)\n",
    "for i in range(len(txt)):\n",
    "    print(txt[i])"
   ]
  },
  {
   "cell_type": "code",
   "execution_count": 7,
   "metadata": {},
   "outputs": [
    {
     "name": "stdout",
     "output_type": "stream",
     "text": [
      "['asd', 'dsa', '23122', 'ASFSDA']\n"
     ]
    }
   ],
   "source": [
    "print(txt.split(' '))"
   ]
  },
  {
   "cell_type": "code",
   "execution_count": 10,
   "metadata": {},
   "outputs": [
    {
     "name": "stdout",
     "output_type": "stream",
     "text": [
      "asd dsa 23122 asfsda\n"
     ]
    }
   ],
   "source": [
    "print(txt.lower())"
   ]
  },
  {
   "cell_type": "code",
   "execution_count": 16,
   "metadata": {},
   "outputs": [
    {
     "data": {
      "text/plain": [
       "'Batata? Tentarei,comendo umas 12 mais rapida-mente. Sentido!!!'"
      ]
     },
     "execution_count": 16,
     "metadata": {},
     "output_type": "execute_result"
    }
   ],
   "source": [
    "txt = \"Batata? Tentarei,comendo umas 12 mais rapida-mente. Sentido!!!\"\n",
    "txt"
   ]
  },
  {
   "cell_type": "code",
   "execution_count": 17,
   "metadata": {},
   "outputs": [
    {
     "name": "stdout",
     "output_type": "stream",
     "text": [
      "batata? tentarei,comendo umas 12 mais rapida-mente. sentido!!!\n"
     ]
    }
   ],
   "source": [
    "print(txt.lower())"
   ]
  },
  {
   "cell_type": "code",
   "execution_count": 21,
   "metadata": {},
   "outputs": [
    {
     "name": "stdout",
     "output_type": "stream",
     "text": [
      "True\n"
     ]
    }
   ],
   "source": [
    "txt = \"abc123\"\n",
    "print(txt.isalnum())"
   ]
  },
  {
   "cell_type": "code",
   "execution_count": 57,
   "metadata": {},
   "outputs": [
    {
     "name": "stdout",
     "output_type": "stream",
     "text": [
      "['batata', 'tentareicomendo', 'umas', '12', 'mais', 'rapidamente', '', 'centido']\n",
      "['alo', 'veio', 'me', 'ver', 'que', 'demoooooraaa']\n",
      "['sempre', 'tentando', 'fazer', 'o', 'certo', 'nunca', 'alcanca']\n",
      "['assim', 'vera', 'nunca', 'me', 'achara', 'escondido', 'estareime']\n",
      "['137', '', 'cento', 'e', 'trinta', 'e', 'seis', '', 'um']\n",
      "['como', 'disse', 'voume', 'embora', 'daqui', 'mane']\n"
     ]
    }
   ],
   "source": [
    "def formatString (s):\n",
    "    import unicodedata\n",
    "    #Retirando acentuações e letras que não estão no Padrão ASCII\n",
    "    s = ''.join(c for c in unicodedata.normalize('NFD', s)\n",
    "                  if unicodedata.category(c) != 'Mn')\n",
    "    \n",
    "    #Passando para lower case\n",
    "    s = s.lower()\n",
    "    \n",
    "    #Filtrando caracteres especiais\n",
    "    caracteresEspeciais = ['!', '\\\"', '#', '$', '%', '&', '\\'', '(', ')', '*', '+', ',', '-', '.', '/', ':', ';', '<', '=', '>',\n",
    "                           '?', '@', '[', '\\\\', ']', '^', '_', '`', '{', '|', '}', '~', '', '', '', '', '', '', '', '', '', '', '', '', '', '', '', '', '']\n",
    "    for carac in caracteresEspeciais:\n",
    "        if (s.count(carac) > 0):\n",
    "            s = s.replace(carac, \"\")\n",
    "        \n",
    "    strings = s.split(' ')\n",
    "    return strings\n",
    "\n",
    "txt1 = \"Bátátá? Tentarei,comêndo umas 12 mais rápida-mente. ]]} Çentido!!!\"\n",
    "txt2 = \"Alô?? Veio me ver!! Que demóóóóóraaa!!!\"\n",
    "txt3 = \"Sem-pre tentando fazer. O certo nunca alcança\"\n",
    "txt4 = \"ASSIM VERÁ: nunca me achará, escondido estarei-me\"\n",
    "txt5 = \"137 = cento e trinta e seis + um\"\n",
    "txt6 = \"Como disse? \\\"Vou-me embora daquí!!!! \\'Mané\\'\\\".\"\n",
    "\n",
    "print(formatString(txt1))\n",
    "print(formatString(txt2))\n",
    "print(formatString(txt3))\n",
    "print(formatString(txt4))\n",
    "print(formatString(txt5))\n",
    "print(formatString(txt6))"
   ]
  }
 ],
 "metadata": {
  "kernelspec": {
   "display_name": "Python 3",
   "language": "python",
   "name": "python3"
  },
  "language_info": {
   "codemirror_mode": {
    "name": "ipython",
    "version": 3
   },
   "file_extension": ".py",
   "mimetype": "text/x-python",
   "name": "python",
   "nbconvert_exporter": "python",
   "pygments_lexer": "ipython3",
   "version": "3.7.3"
  }
 },
 "nbformat": 4,
 "nbformat_minor": 2
}
