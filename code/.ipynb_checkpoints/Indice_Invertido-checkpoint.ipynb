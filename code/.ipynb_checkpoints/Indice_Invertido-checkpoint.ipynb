{
 "cells": [
  {
   "cell_type": "code",
   "execution_count": 2,
   "metadata": {},
   "outputs": [],
   "source": [
    "import math\n",
    "import numpy as np\n",
    "import re\n",
    "import argparse\n",
    "import os\n",
    "import glob\n",
    "from pathlib import Path\n",
    "import time"
   ]
  },
  {
   "cell_type": "code",
   "execution_count": 103,
   "metadata": {},
   "outputs": [],
   "source": [
    "class Indice_Invertido:\n",
    "    \n",
    "    def formataString(self, s):\n",
    "        s = s.lower()\n",
    "        s = re.sub(\"[:,'|.@()?!#$&]\",\" \", s)\n",
    "        s = s.replace(\"\\n\", \" \")\n",
    "        s = re.sub('[^A-Za-z0-9 ]+', '', s)\n",
    "        strings = s.split()\n",
    "        return strings\n",
    "    \n",
    "    def __init__(self, path):\n",
    "        self.indice = {}\n",
    "        print(\"Lendo arquivos...\")\n",
    "            \n",
    "        #Guarda o endereço e o nome de todos os arquivos :D\n",
    "        files = [f for f in glob.glob(path + \"**/*\", recursive=True)]\n",
    "        self.nome_arquivos = [os.path.basename(file) for file in files]\n",
    "        \n",
    "        arquivos      = [self.formataString(open(file, encoding=\"latin-1\").read()) for file in files]\n",
    "        \n",
    "        for i in range(len(arquivos)):\n",
    "            for word in arquivos[i]:\n",
    "                if word in self.indice:\n",
    "                    if i in self.indice[word]:\n",
    "                        self.indice[word][i] += 1\n",
    "                    else:\n",
    "                        self.indice[word][i] = 1\n",
    "                else:\n",
    "                    self.indice[word] = {i:1}\n",
    "                    \n",
    "        # arquivos = {}\n",
    "\n",
    "        # for file in files:\n",
    "        #     arquivo  = open(file)\n",
    "        #     text     = arquivo.read()\n",
    "        #     filename = os.path.basename(file) \n",
    "        #     arquivos[filename] = text\n",
    "    \n",
    "    def coordenadas(indInv, numDocs):\n",
    "        coords = np.zeros((len(indInv), numDocs))\n",
    "        indicePalavra = 0;\n",
    "\n",
    "        for k, v in indInv.items():\n",
    "            nx = len(v)\n",
    "            idf = math.log(numDocs/nx)\n",
    "            \n",
    "            for dados in v:\n",
    "                w = dados[1] * idf\n",
    "                coords[indicePalavra][dados[0]] = w\n",
    "\n",
    "            indicePalavra+=1\n",
    "\n",
    "        return coords\n",
    "\n",
    "    #essa função deu erro em relação ao k\n",
    "    def formataQuery(indInv, indQ, numDocs):\n",
    "        Q = np.zeros((len(indInv),1))\n",
    "        indicePalavra = 0;\n",
    "    \n",
    "        for k, v in indInv.items():\n",
    "            if k in indQ.keys():\n",
    "                nx = len(v)\n",
    "                idf = math.log(numDocs/nx)\n",
    "                w = (indQ[k])[0][1] * idf\n",
    "                Q[indicePalavra] = w\n",
    "            indicePalavra+=1\n",
    "        return Q\n",
    "\n",
    "    \n",
    "    def verificaConsulta(coords, Q):\n",
    "        resultado = {}\n",
    "        Q = Q.reshape((len(Q),1))\n",
    "\n",
    "        for i in range(np.shape(coords)[1]):\n",
    "            vec = coords[:, i]\n",
    "            vec = vec.reshape((len(vec),1))\n",
    "            similaridade = (vec.T @ Q)/(np.linalg.norm(vec) * np.linalg.norm(Q))\n",
    "            resultado[i] = similaridade[0][0]\n",
    "        return resultado"
   ]
  },
  {
   "cell_type": "code",
   "execution_count": 104,
   "metadata": {},
   "outputs": [
    {
     "name": "stdout",
     "output_type": "stream",
     "text": [
      "Lendo arquivos...\n"
     ]
    },
    {
     "ename": "TypeError",
     "evalue": "formataString() takes 1 positional argument but 2 were given",
     "output_type": "error",
     "traceback": [
      "\u001b[0;31m---------------------------------------------------------------------------\u001b[0m",
      "\u001b[0;31mTypeError\u001b[0m                                 Traceback (most recent call last)",
      "\u001b[0;32m<ipython-input-104-ee2793208fba>\u001b[0m in \u001b[0;36m<module>\u001b[0;34m\u001b[0m\n\u001b[0;32m----> 1\u001b[0;31m \u001b[0ma\u001b[0m \u001b[0;34m=\u001b[0m \u001b[0mIndice_Invertido\u001b[0m\u001b[0;34m(\u001b[0m\u001b[0;34m\"../data\"\u001b[0m\u001b[0;34m)\u001b[0m\u001b[0;34m\u001b[0m\u001b[0;34m\u001b[0m\u001b[0m\n\u001b[0m",
      "\u001b[0;32m<ipython-input-103-b14923202018>\u001b[0m in \u001b[0;36m__init__\u001b[0;34m(self, path)\u001b[0m\n\u001b[1;32m     17\u001b[0m         \u001b[0mself\u001b[0m\u001b[0;34m.\u001b[0m\u001b[0mnome_arquivos\u001b[0m \u001b[0;34m=\u001b[0m \u001b[0;34m[\u001b[0m\u001b[0mos\u001b[0m\u001b[0;34m.\u001b[0m\u001b[0mpath\u001b[0m\u001b[0;34m.\u001b[0m\u001b[0mbasename\u001b[0m\u001b[0;34m(\u001b[0m\u001b[0mfile\u001b[0m\u001b[0;34m)\u001b[0m \u001b[0;32mfor\u001b[0m \u001b[0mfile\u001b[0m \u001b[0;32min\u001b[0m \u001b[0mfiles\u001b[0m\u001b[0;34m]\u001b[0m\u001b[0;34m\u001b[0m\u001b[0;34m\u001b[0m\u001b[0m\n\u001b[1;32m     18\u001b[0m \u001b[0;34m\u001b[0m\u001b[0m\n\u001b[0;32m---> 19\u001b[0;31m         \u001b[0marquivos\u001b[0m      \u001b[0;34m=\u001b[0m \u001b[0;34m[\u001b[0m\u001b[0mself\u001b[0m\u001b[0;34m.\u001b[0m\u001b[0mformataString\u001b[0m\u001b[0;34m(\u001b[0m\u001b[0mopen\u001b[0m\u001b[0;34m(\u001b[0m\u001b[0mfile\u001b[0m\u001b[0;34m,\u001b[0m \u001b[0mencoding\u001b[0m\u001b[0;34m=\u001b[0m\u001b[0;34m\"latin-1\"\u001b[0m\u001b[0;34m)\u001b[0m\u001b[0;34m.\u001b[0m\u001b[0mread\u001b[0m\u001b[0;34m(\u001b[0m\u001b[0;34m)\u001b[0m\u001b[0;34m)\u001b[0m \u001b[0;32mfor\u001b[0m \u001b[0mfile\u001b[0m \u001b[0;32min\u001b[0m \u001b[0mfiles\u001b[0m\u001b[0;34m]\u001b[0m\u001b[0;34m\u001b[0m\u001b[0;34m\u001b[0m\u001b[0m\n\u001b[0m\u001b[1;32m     20\u001b[0m \u001b[0;34m\u001b[0m\u001b[0m\n\u001b[1;32m     21\u001b[0m         \u001b[0;32mfor\u001b[0m \u001b[0mi\u001b[0m \u001b[0;32min\u001b[0m \u001b[0mrange\u001b[0m\u001b[0;34m(\u001b[0m\u001b[0mlen\u001b[0m\u001b[0;34m(\u001b[0m\u001b[0marquivos\u001b[0m\u001b[0;34m)\u001b[0m\u001b[0;34m)\u001b[0m\u001b[0;34m:\u001b[0m\u001b[0;34m\u001b[0m\u001b[0;34m\u001b[0m\u001b[0m\n",
      "\u001b[0;32m<ipython-input-103-b14923202018>\u001b[0m in \u001b[0;36m<listcomp>\u001b[0;34m(.0)\u001b[0m\n\u001b[1;32m     17\u001b[0m         \u001b[0mself\u001b[0m\u001b[0;34m.\u001b[0m\u001b[0mnome_arquivos\u001b[0m \u001b[0;34m=\u001b[0m \u001b[0;34m[\u001b[0m\u001b[0mos\u001b[0m\u001b[0;34m.\u001b[0m\u001b[0mpath\u001b[0m\u001b[0;34m.\u001b[0m\u001b[0mbasename\u001b[0m\u001b[0;34m(\u001b[0m\u001b[0mfile\u001b[0m\u001b[0;34m)\u001b[0m \u001b[0;32mfor\u001b[0m \u001b[0mfile\u001b[0m \u001b[0;32min\u001b[0m \u001b[0mfiles\u001b[0m\u001b[0;34m]\u001b[0m\u001b[0;34m\u001b[0m\u001b[0;34m\u001b[0m\u001b[0m\n\u001b[1;32m     18\u001b[0m \u001b[0;34m\u001b[0m\u001b[0m\n\u001b[0;32m---> 19\u001b[0;31m         \u001b[0marquivos\u001b[0m      \u001b[0;34m=\u001b[0m \u001b[0;34m[\u001b[0m\u001b[0mself\u001b[0m\u001b[0;34m.\u001b[0m\u001b[0mformataString\u001b[0m\u001b[0;34m(\u001b[0m\u001b[0mopen\u001b[0m\u001b[0;34m(\u001b[0m\u001b[0mfile\u001b[0m\u001b[0;34m,\u001b[0m \u001b[0mencoding\u001b[0m\u001b[0;34m=\u001b[0m\u001b[0;34m\"latin-1\"\u001b[0m\u001b[0;34m)\u001b[0m\u001b[0;34m.\u001b[0m\u001b[0mread\u001b[0m\u001b[0;34m(\u001b[0m\u001b[0;34m)\u001b[0m\u001b[0;34m)\u001b[0m \u001b[0;32mfor\u001b[0m \u001b[0mfile\u001b[0m \u001b[0;32min\u001b[0m \u001b[0mfiles\u001b[0m\u001b[0;34m]\u001b[0m\u001b[0;34m\u001b[0m\u001b[0;34m\u001b[0m\u001b[0m\n\u001b[0m\u001b[1;32m     20\u001b[0m \u001b[0;34m\u001b[0m\u001b[0m\n\u001b[1;32m     21\u001b[0m         \u001b[0;32mfor\u001b[0m \u001b[0mi\u001b[0m \u001b[0;32min\u001b[0m \u001b[0mrange\u001b[0m\u001b[0;34m(\u001b[0m\u001b[0mlen\u001b[0m\u001b[0;34m(\u001b[0m\u001b[0marquivos\u001b[0m\u001b[0;34m)\u001b[0m\u001b[0;34m)\u001b[0m\u001b[0;34m:\u001b[0m\u001b[0;34m\u001b[0m\u001b[0;34m\u001b[0m\u001b[0m\n",
      "\u001b[0;31mTypeError\u001b[0m: formataString() takes 1 positional argument but 2 were given"
     ]
    }
   ],
   "source": [
    "a = Indice_Invertido(\"../data\")"
   ]
  }
 ],
 "metadata": {
  "kernelspec": {
   "display_name": "Python 3",
   "language": "python",
   "name": "python3"
  },
  "language_info": {
   "codemirror_mode": {
    "name": "ipython",
    "version": 3
   },
   "file_extension": ".py",
   "mimetype": "text/x-python",
   "name": "python",
   "nbconvert_exporter": "python",
   "pygments_lexer": "ipython3",
   "version": "3.7.3"
  }
 },
 "nbformat": 4,
 "nbformat_minor": 2
}
