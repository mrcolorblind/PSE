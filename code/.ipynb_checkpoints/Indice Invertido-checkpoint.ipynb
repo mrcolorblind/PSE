{
 "cells": [
  {
   "cell_type": "code",
   "execution_count": 1,
   "metadata": {},
   "outputs": [
    {
     "name": "stdout",
     "output_type": "stream",
     "text": [
      "['teste', 'tentando', 'doze', 'cabeca', 'andarilho', 'triplo', 'triplo']\n",
      "['batata', 'tentativa', 'nove', 'triplo', 'quando', 'falar', 'batata', 'teste']\n"
     ]
    }
   ],
   "source": [
    "txt1 = [\"teste\", \"tentando\", \"doze\", \"cabeca\", \"andarilho\", \"triplo\", \"triplo\"]\n",
    "txt2 = [\"batata\", \"tentativa\", \"nove\", \"triplo\", \"quando\", \"falar\", \"batata\", \"teste\"]\n",
    "\n",
    "print(txt1)\n",
    "print(txt2)"
   ]
  },
  {
   "cell_type": "code",
   "execution_count": 2,
   "metadata": {},
   "outputs": [
    {
     "name": "stdout",
     "output_type": "stream",
     "text": [
      "teste  ->  1  :  1\n",
      "tentando  ->  1  :  1\n",
      "doze  ->  1  :  1\n",
      "cabeca  ->  1  :  1\n",
      "andarilho  ->  1  :  1\n",
      "triplo  ->  1  :  2\n",
      "batata  ->  2  :  2\n",
      "tentativa  ->  2  :  1\n",
      "nove  ->  2  :  1\n",
      "triplo  ->  2  :  1\n",
      "quando  ->  2  :  1\n",
      "falar  ->  2  :  1\n",
      "teste  ->  2  :  1\n"
     ]
    }
   ],
   "source": [
    "arquivos = {1:txt1, 2:txt2}\n",
    "\n",
    "vocabulario = []\n",
    "\n",
    "for k, v in arquivos.items():\n",
    "    #print(k, \" : \", v)\n",
    "    \n",
    "    ignorarIndice = []\n",
    "    for i in range(len(v)):\n",
    "        frequenciaNesteDoc = 1\n",
    "        if (ignorarIndice.count(i) != 0):\n",
    "            continue\n",
    "        \n",
    "        for j in range(i+1, len(v)):\n",
    "            if (v[i] == v[j]):\n",
    "                frequenciaNesteDoc+=1\n",
    "                ignorarIndice.append(j)\n",
    "                \n",
    "        vocabulario.append([v[i], k, frequenciaNesteDoc])\n",
    "    \n",
    "\n",
    "for val in vocabulario:\n",
    "    print(val[0], \" -> \", val[1], \" : \", val[2])"
   ]
  },
  {
   "cell_type": "code",
   "execution_count": 7,
   "metadata": {},
   "outputs": [
    {
     "name": "stdout",
     "output_type": "stream",
     "text": [
      "teste ->  [[1, 2], 2]\n",
      "tentando ->  [[1], 1]\n",
      "doze ->  [[1], 1]\n",
      "cabeca ->  [[1], 1]\n",
      "andarilho ->  [[1], 1]\n",
      "triplo ->  [[1, 2], 3]\n",
      "batata ->  [[2], 2]\n",
      "tentativa ->  [[2], 1]\n",
      "nove ->  [[2], 1]\n",
      "quando ->  [[2], 1]\n",
      "falar ->  [[2], 1]\n"
     ]
    }
   ],
   "source": [
    "indInv = {}\n",
    "\n",
    "for val in vocabulario:\n",
    "    if val[0] in indInv.keys():\n",
    "        dados = indInv[val[0]]\n",
    "        dados[0].append(val[1])\n",
    "        dados[1] += val[2]\n",
    "        indInv[val[0]] = dados\n",
    "    else:\n",
    "        dados = [[val[1]], val[2]]\n",
    "        indInv[val[0]] = dados\n",
    "        \n",
    "print(\"A palavra em questão -> [Os documentos em que ela aparece], A quantidade total que ela aparece\")\n",
    "for k, v in indInv.items():\n",
    "    print(k, \"-> \", v)"
   ]
  }
 ],
 "metadata": {
  "kernelspec": {
   "display_name": "Python 3",
   "language": "python",
   "name": "python3"
  },
  "language_info": {
   "codemirror_mode": {
    "name": "ipython",
    "version": 3
   },
   "file_extension": ".py",
   "mimetype": "text/x-python",
   "name": "python",
   "nbconvert_exporter": "python",
   "pygments_lexer": "ipython3",
   "version": "3.7.3"
  }
 },
 "nbformat": 4,
 "nbformat_minor": 2
}
