{
 "cells": [
  {
   "cell_type": "code",
   "execution_count": 1,
   "metadata": {},
   "outputs": [],
   "source": [
    "import re\n",
    "import argparse\n",
    "import os\n",
    "import glob\n",
    "from pathlib import Path\n",
    "import time\n",
    "from Indice_Invertido import Indice_Invertido\n",
    "from Consulta import Consulta\n",
    "import numpy as np"
   ]
  },
  {
   "cell_type": "code",
   "execution_count": 2,
   "metadata": {},
   "outputs": [],
   "source": [
    "#Recebendo e atribuindo os argumentos\n",
    "\n",
    "#Argumentos funcionam apenas em executáveis .py, portanto o código deve ser descomentado quando o código for exportado.\n",
    "\n",
    "# parser = argparse.ArgumentParser()\n",
    "# parser.add_argument(\"dataset\", help=\"O banco de dados no qual será realizada a pesquisa. Deve ser uma pasta.\")\n",
    "# args   = parser.parse_args()\n"
   ]
  },
  {
   "cell_type": "code",
   "execution_count": 3,
   "metadata": {},
   "outputs": [
    {
     "name": "stdout",
     "output_type": "stream",
     "text": [
      "Tratando arquivos...\n",
      "1/2\n",
      "2/2\n",
      "Arquivos tratados!\n"
     ]
    }
   ],
   "source": [
    "path = \"../training_data\"\n",
    "# path = args.dataset\n",
    "# Uma linha para o executável, a outra para o ipynb\n",
    "print(\"Tratando arquivos...\")\n",
    "indInv = Indice_Invertido(path)\n",
    "# Rode a linha abaixo para ver a estrutura de dados do índice.\n",
    "print(\"Arquivos tratados!\")\n",
    "\n",
    "#for k, v in indInv.indice.items():\n",
    "#    print(k, \" -> \", v)\n",
    "    \n",
    "    #print(k, \" -> \")\n",
    "    #for k2, v2 in v.items():\n",
    "    #    print(\"---    \", k2, \" -> \", v2)\n",
    "#print(\"\\n\\n\\n\\n\")\n",
    "#print(indInv.coordenadas)"
   ]
  },
  {
   "cell_type": "code",
   "execution_count": 4,
   "metadata": {},
   "outputs": [
    {
     "name": "stdout",
     "output_type": "stream",
     "text": [
      "Consulta realizada em  0.0  segundos. Resultados:\n",
      "[('..\\\\training_data\\\\3', 0.04941953948597747), ('..\\\\training_data\\\\4', 0.18202120907656902), ('..\\\\training_data\\\\7', 0.45944022457937284), ('..\\\\training_data\\\\2', 0.49922578869095185)]\n"
     ]
    }
   ],
   "source": [
    "queryOriginal = \"Nunca alcança o certo. Alguma trinta chance da tentativa dar certo? Talvez uma batata ou outra batata... mais seis\"\n",
    "\n",
    "start_time = time.time()\n",
    "\n",
    "consulta = Consulta(queryOriginal, indInv)\n",
    "\n",
    "end_time = time.time()\n",
    "print(\"Consulta realizada em \", (end_time - start_time), \" segundos. Resultados:\")\n",
    "print(consulta.documentos)"
   ]
  }
 ],
 "metadata": {
  "kernelspec": {
   "display_name": "Python 3",
   "language": "python",
   "name": "python3"
  },
  "language_info": {
   "codemirror_mode": {
    "name": "ipython",
    "version": 3
   },
   "file_extension": ".py",
   "mimetype": "text/x-python",
   "name": "python",
   "nbconvert_exporter": "python",
   "pygments_lexer": "ipython3",
   "version": "3.7.3"
  }
 },
 "nbformat": 4,
 "nbformat_minor": 2
}
